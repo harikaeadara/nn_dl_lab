{
  "nbformat": 4,
  "nbformat_minor": 0,
  "metadata": {
    "colab": {
      "provenance": [],
      "authorship_tag": "ABX9TyO7pGW5tET6SYk72e8Xkom1",
      "include_colab_link": true
    },
    "kernelspec": {
      "name": "python3",
      "display_name": "Python 3"
    },
    "language_info": {
      "name": "python"
    }
  },
  "cells": [
    {
      "cell_type": "markdown",
      "metadata": {
        "id": "view-in-github",
        "colab_type": "text"
      },
      "source": [
        "<a href=\"https://colab.research.google.com/github/harikaeadara/nn_dl_lab/blob/main/7_7_23_nn_lab.ipynb\" target=\"_parent\"><img src=\"https://colab.research.google.com/assets/colab-badge.svg\" alt=\"Open In Colab\"/></a>"
      ]
    },
    {
      "cell_type": "markdown",
      "source": [
        "# **Using and function**"
      ],
      "metadata": {
        "id": "__ZFHKzs5Es5"
      }
    },
    {
      "cell_type": "code",
      "execution_count": null,
      "metadata": {
        "colab": {
          "base_uri": "https://localhost:8080/"
        },
        "id": "AuwAYg6A45jw",
        "outputId": "538e6918-d78c-4896-e4aa-c7b5d0679a17"
      },
      "outputs": [
        {
          "output_type": "stream",
          "name": "stdout",
          "text": [
            "X shape: (4, 2)\n",
            "y_predict: [0 0 0 1]\n"
          ]
        }
      ],
      "source": [
        "import numpy as np\n",
        "\n",
        "X = np.array([[0, 0], [0, 1], [1, 0], [1, 1]])\n",
        "y = np.array([0, 0, 0, 1])\n",
        "\n",
        "weight_threshold = 1.5\n",
        "\n",
        "weights = np.array([1, 1])\n",
        "\n",
        "y_predict = np.zeros(X.shape[0], dtype=int)\n",
        "\n",
        "for i in range(X.shape[0]):\n",
        "    weighted_sum = np.dot(X[i], weights)\n",
        "\n",
        "    if weighted_sum >= weight_threshold:\n",
        "        y_predict[i] = 1\n",
        "\n",
        "print(\"X shape:\", X.shape)\n",
        "\n",
        "print(\"y_predict:\", y_predict)\n"
      ]
    },
    {
      "cell_type": "markdown",
      "source": [
        "# **using or function**"
      ],
      "metadata": {
        "id": "Rgl_JoHV6O5k"
      }
    },
    {
      "cell_type": "code",
      "source": [
        "import numpy as np\n",
        "\n",
        "X = np.array([[0, 0], [0, 1], [1, 0], [1, 1]])\n",
        "y = np.array([0, 0, 0, 1])\n",
        "\n",
        "weight_threshold = 0.5\n",
        "\n",
        "weights = np.array([1, 1])\n",
        "y_predict = np.zeros(X.shape[0], dtype=int)\n",
        "\n",
        "for i in range(X.shape[0]):\n",
        "    weighted_sum = np.dot(X[i], weights)\n",
        "\n",
        "    if weighted_sum >= weight_threshold:\n",
        "        y_predict[i] = 1\n",
        "\n",
        "print(\"X shape:\", X.shape)\n",
        "\n",
        "print(\"y_predict:\", y_predict)\n",
        "\n"
      ],
      "metadata": {
        "colab": {
          "base_uri": "https://localhost:8080/"
        },
        "id": "hLDxa9X06NFb",
        "outputId": "7624e167-75c1-4be9-cb20-aa8f749bfca0"
      },
      "execution_count": null,
      "outputs": [
        {
          "output_type": "stream",
          "name": "stdout",
          "text": [
            "X shape: (4, 2)\n",
            "y_predict: [0 1 1 1]\n"
          ]
        }
      ]
    },
    {
      "cell_type": "code",
      "source": [
        "import numpy as np\n",
        "x=np.array([3,4,5,6])\n",
        "y=np.array([6,8,10,12])\n",
        "slope,intercept=np.polyfit(x,y,1)\n",
        "print(\"slope\",slope)\n",
        "print(\"intercept\",intercept)"
      ],
      "metadata": {
        "id": "sB8AwSv7PwkA",
        "colab": {
          "base_uri": "https://localhost:8080/"
        },
        "outputId": "9bcc8fd1-4172-45c9-96d4-efebe70052b5"
      },
      "execution_count": 3,
      "outputs": [
        {
          "output_type": "stream",
          "name": "stdout",
          "text": [
            "slope 2.0\n",
            "intercept 3.1491611052924456e-15\n"
          ]
        }
      ]
    },
    {
      "cell_type": "code",
      "source": [],
      "metadata": {
        "id": "GvuVeMHoUrBs"
      },
      "execution_count": null,
      "outputs": []
    }
  ]
}